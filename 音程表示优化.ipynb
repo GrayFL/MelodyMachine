{
 "cells": [
  {
   "cell_type": "code",
   "execution_count": 17,
   "metadata": {},
   "outputs": [],
   "source": [
    "import numpy as np\n",
    "import pandas as pd\n",
    "import MelodyMachine as MM\n",
    "\n",
    "%load_ext autoreload\n",
    "%autoreload 1\n",
    "%aimport MelodyMachine"
   ]
  },
  {
   "cell_type": "code",
   "execution_count": 2,
   "metadata": {},
   "outputs": [],
   "source": [
    "df = pd.read_csv('chord_db.csv')\n",
    "df = df.set_index(df['度数'])"
   ]
  },
  {
   "cell_type": "code",
   "execution_count": 11,
   "metadata": {},
   "outputs": [
    {
     "data": {
      "text/plain": [
       "['10m',\n",
       " '11A',\n",
       " '11P',\n",
       " '13M',\n",
       " '13m',\n",
       " '1P',\n",
       " '2M',\n",
       " '3M',\n",
       " '3m',\n",
       " '4P',\n",
       " '5A',\n",
       " '5P',\n",
       " '5d',\n",
       " '6M',\n",
       " '6m',\n",
       " '7M',\n",
       " '7d',\n",
       " '7m',\n",
       " '9A',\n",
       " '9M',\n",
       " '9m']"
      ]
     },
     "execution_count": 11,
     "metadata": {},
     "output_type": "execute_result"
    }
   ],
   "source": [
    "tmp = []\n",
    "for S in [s.split(',') for s in df['度数'].values]:\n",
    "    tmp += S\n",
    "sorted(list(set(tmp)))"
   ]
  },
  {
   "cell_type": "code",
   "execution_count": 47,
   "metadata": {},
   "outputs": [
    {
     "data": {
      "text/plain": [
       "[0, 4, 7]"
      ]
     },
     "execution_count": 47,
     "metadata": {},
     "output_type": "execute_result"
    }
   ],
   "source": [
    "MM.degree2interval('1P,3M,5P')"
   ]
  },
  {
   "cell_type": "code",
   "execution_count": 54,
   "metadata": {},
   "outputs": [
    {
     "data": {
      "text/plain": [
       "[('1P', '3M', '4A', '6M'),\n",
       " ('1P', '3M', '4A', '7d'),\n",
       " ('1P', '3M', '5d', '6M'),\n",
       " ('1P', '3M', '5d', '7d')]"
      ]
     },
     "execution_count": 54,
     "metadata": {},
     "output_type": "execute_result"
    }
   ],
   "source": [
    "MM.interval2degree('0,4,6,9')"
   ]
  },
  {
   "cell_type": "code",
   "execution_count": 82,
   "metadata": {},
   "outputs": [
    {
     "data": {
      "text/plain": [
       "[('1P', '3m', '4A', '6M'),\n",
       " ('1P', '3m', '4A', '7d'),\n",
       " ('1P', '3m', '5d', '6M'),\n",
       " ('1P', '3m', '5d', '7d')]"
      ]
     },
     "execution_count": 82,
     "metadata": {},
     "output_type": "execute_result"
    }
   ],
   "source": [
    "tmp = MM.interval2degree('0,3,6,9')\n",
    "tmp"
   ]
  },
  {
   "cell_type": "code",
   "execution_count": 86,
   "metadata": {},
   "outputs": [
    {
     "data": {
      "text/plain": [
       "记号              dim7,°7,o7\n",
       "名称      diminished seventh\n",
       "音程                 0,3,6,9\n",
       "度数             1P,3m,5d,7d\n",
       "音程结构            Diminished\n",
       "音高集合                  2340\n",
       "优先级                      0\n",
       "和弦标记                  dim7\n",
       "Name: 1P,3m,5d,7d, dtype: object"
      ]
     },
     "execution_count": 86,
     "metadata": {},
     "output_type": "execute_result"
    }
   ],
   "source": [
    "df.loc[MM.degree2div(tmp[3])]"
   ]
  },
  {
   "cell_type": "code",
   "execution_count": 73,
   "metadata": {},
   "outputs": [
    {
     "data": {
      "text/html": [
       "<div>\n",
       "<style scoped>\n",
       "    .dataframe tbody tr th:only-of-type {\n",
       "        vertical-align: middle;\n",
       "    }\n",
       "\n",
       "    .dataframe tbody tr th {\n",
       "        vertical-align: top;\n",
       "    }\n",
       "\n",
       "    .dataframe thead th {\n",
       "        text-align: right;\n",
       "    }\n",
       "</style>\n",
       "<table border=\"1\" class=\"dataframe\">\n",
       "  <thead>\n",
       "    <tr style=\"text-align: right;\">\n",
       "      <th></th>\n",
       "      <th>记号</th>\n",
       "      <th>名称</th>\n",
       "      <th>音程</th>\n",
       "      <th>度数</th>\n",
       "      <th>音程结构</th>\n",
       "      <th>音高集合</th>\n",
       "      <th>优先级</th>\n",
       "      <th>和弦标记</th>\n",
       "    </tr>\n",
       "    <tr>\n",
       "      <th>度数</th>\n",
       "      <th></th>\n",
       "      <th></th>\n",
       "      <th></th>\n",
       "      <th></th>\n",
       "      <th></th>\n",
       "      <th></th>\n",
       "      <th></th>\n",
       "      <th></th>\n",
       "    </tr>\n",
       "  </thead>\n",
       "  <tbody>\n",
       "    <tr>\n",
       "      <th>1P,3m,5P</th>\n",
       "      <td>m,min,-</td>\n",
       "      <td>minor</td>\n",
       "      <td>0,3,7</td>\n",
       "      <td>1P,3m,5P</td>\n",
       "      <td>Minor</td>\n",
       "      <td>2320</td>\n",
       "      <td>90</td>\n",
       "      <td>m</td>\n",
       "    </tr>\n",
       "    <tr>\n",
       "      <th>1P,3M,5P</th>\n",
       "      <td>M,^,</td>\n",
       "      <td>major</td>\n",
       "      <td>0,4,7</td>\n",
       "      <td>1P,3M,5P</td>\n",
       "      <td>Major</td>\n",
       "      <td>2192</td>\n",
       "      <td>90</td>\n",
       "      <td>M</td>\n",
       "    </tr>\n",
       "    <tr>\n",
       "      <th>1P,3M,5P,7m</th>\n",
       "      <td>7,dom</td>\n",
       "      <td>dominant seventh</td>\n",
       "      <td>0,4,7,10</td>\n",
       "      <td>1P,3M,5P,7m</td>\n",
       "      <td>Major</td>\n",
       "      <td>2194</td>\n",
       "      <td>90</td>\n",
       "      <td>7</td>\n",
       "    </tr>\n",
       "    <tr>\n",
       "      <th>1P,5P</th>\n",
       "      <td>5</td>\n",
       "      <td>fifth</td>\n",
       "      <td>0,7</td>\n",
       "      <td>1P,5P</td>\n",
       "      <td>Unknown</td>\n",
       "      <td>2064</td>\n",
       "      <td>85</td>\n",
       "      <td>5</td>\n",
       "    </tr>\n",
       "    <tr>\n",
       "      <th>1P,3M,5P,7M,9M,13M</th>\n",
       "      <td>maj13,Maj13,^13</td>\n",
       "      <td>major thirteenth</td>\n",
       "      <td>0,2,4,7,9,11</td>\n",
       "      <td>1P,3M,5P,7M,9M,13M</td>\n",
       "      <td>Major</td>\n",
       "      <td>2709</td>\n",
       "      <td>10</td>\n",
       "      <td>maj13</td>\n",
       "    </tr>\n",
       "    <tr>\n",
       "      <th>...</th>\n",
       "      <td>...</td>\n",
       "      <td>...</td>\n",
       "      <td>...</td>\n",
       "      <td>...</td>\n",
       "      <td>...</td>\n",
       "      <td>...</td>\n",
       "      <td>...</td>\n",
       "      <td>...</td>\n",
       "    </tr>\n",
       "    <tr>\n",
       "      <th>1P,3M,5P,7m,13M</th>\n",
       "      <td>7add6,67,7add13</td>\n",
       "      <td>-</td>\n",
       "      <td>0,4,7,9,10</td>\n",
       "      <td>1P,3M,5P,7m,13M</td>\n",
       "      <td>Major</td>\n",
       "      <td>2198</td>\n",
       "      <td>0</td>\n",
       "      <td>7add6</td>\n",
       "    </tr>\n",
       "    <tr>\n",
       "      <th>1P,3M,5A,7m</th>\n",
       "      <td>7#5,+7,7+,7aug,aug7</td>\n",
       "      <td>-</td>\n",
       "      <td>0,4,8,10</td>\n",
       "      <td>1P,3M,5A,7m</td>\n",
       "      <td>Augmented</td>\n",
       "      <td>2186</td>\n",
       "      <td>0</td>\n",
       "      <td>7#5</td>\n",
       "    </tr>\n",
       "    <tr>\n",
       "      <th>1P,4P,5P,7M</th>\n",
       "      <td>M7sus4</td>\n",
       "      <td>-</td>\n",
       "      <td>0,5,7,11</td>\n",
       "      <td>1P,4P,5P,7M</td>\n",
       "      <td>Unknown</td>\n",
       "      <td>2129</td>\n",
       "      <td>0</td>\n",
       "      <td>M7sus4</td>\n",
       "    </tr>\n",
       "    <tr>\n",
       "      <th>1P,4P,5A,7m</th>\n",
       "      <td>7#5sus4</td>\n",
       "      <td>-</td>\n",
       "      <td>0,5,8,10</td>\n",
       "      <td>1P,4P,5A,7m</td>\n",
       "      <td>Augmented</td>\n",
       "      <td>2122</td>\n",
       "      <td>0</td>\n",
       "      <td>7#5sus4</td>\n",
       "    </tr>\n",
       "    <tr>\n",
       "      <th>1P,4P,5A,7M</th>\n",
       "      <td>M7#5sus4</td>\n",
       "      <td>-</td>\n",
       "      <td>0,5,8,11</td>\n",
       "      <td>1P,4P,5A,7M</td>\n",
       "      <td>Augmented</td>\n",
       "      <td>2121</td>\n",
       "      <td>0</td>\n",
       "      <td>M7#5sus4</td>\n",
       "    </tr>\n",
       "  </tbody>\n",
       "</table>\n",
       "<p>106 rows × 8 columns</p>\n",
       "</div>"
      ],
      "text/plain": [
       "                                     记号                名称            音程  \\\n",
       "度数                                                                        \n",
       "1P,3m,5P                        m,min,-             minor         0,3,7   \n",
       "1P,3M,5P                           M,^,             major         0,4,7   \n",
       "1P,3M,5P,7m                       7,dom  dominant seventh      0,4,7,10   \n",
       "1P,5P                                 5             fifth           0,7   \n",
       "1P,3M,5P,7M,9M,13M      maj13,Maj13,^13  major thirteenth  0,2,4,7,9,11   \n",
       "...                                 ...               ...           ...   \n",
       "1P,3M,5P,7m,13M         7add6,67,7add13                 -    0,4,7,9,10   \n",
       "1P,3M,5A,7m         7#5,+7,7+,7aug,aug7                 -      0,4,8,10   \n",
       "1P,4P,5P,7M                      M7sus4                 -      0,5,7,11   \n",
       "1P,4P,5A,7m                     7#5sus4                 -      0,5,8,10   \n",
       "1P,4P,5A,7M                    M7#5sus4                 -      0,5,8,11   \n",
       "\n",
       "                                    度数       音程结构  音高集合  优先级      和弦标记  \n",
       "度数                                                                      \n",
       "1P,3m,5P                      1P,3m,5P      Minor  2320   90         m  \n",
       "1P,3M,5P                      1P,3M,5P      Major  2192   90         M  \n",
       "1P,3M,5P,7m                1P,3M,5P,7m      Major  2194   90         7  \n",
       "1P,5P                            1P,5P    Unknown  2064   85         5  \n",
       "1P,3M,5P,7M,9M,13M  1P,3M,5P,7M,9M,13M      Major  2709   10     maj13  \n",
       "...                                ...        ...   ...  ...       ...  \n",
       "1P,3M,5P,7m,13M        1P,3M,5P,7m,13M      Major  2198    0     7add6  \n",
       "1P,3M,5A,7m                1P,3M,5A,7m  Augmented  2186    0       7#5  \n",
       "1P,4P,5P,7M                1P,4P,5P,7M    Unknown  2129    0    M7sus4  \n",
       "1P,4P,5A,7m                1P,4P,5A,7m  Augmented  2122    0   7#5sus4  \n",
       "1P,4P,5A,7M                1P,4P,5A,7M  Augmented  2121    0  M7#5sus4  \n",
       "\n",
       "[106 rows x 8 columns]"
      ]
     },
     "execution_count": 73,
     "metadata": {},
     "output_type": "execute_result"
    }
   ],
   "source": [
    "df"
   ]
  }
 ],
 "metadata": {
  "kernelspec": {
   "display_name": "AIO",
   "language": "python",
   "name": "python3"
  },
  "language_info": {
   "codemirror_mode": {
    "name": "ipython",
    "version": 3
   },
   "file_extension": ".py",
   "mimetype": "text/x-python",
   "name": "python",
   "nbconvert_exporter": "python",
   "pygments_lexer": "ipython3",
   "version": "3.11.9"
  }
 },
 "nbformat": 4,
 "nbformat_minor": 2
}
